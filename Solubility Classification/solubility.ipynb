{
 "cells": [
  {
   "cell_type": "code",
   "execution_count": null,
   "metadata": {},
   "outputs": [],
   "source": [
    "from train import train_cross_val\n",
    "import pandas as pd\n",
    "import os\n",
    "\n",
    "# suppress warnings due from sklearn metrics\n",
    "# early in training, metrics such as F1 score are poorly defined\n",
    "# as model does may not predict any positive classes\n",
    "import warnings\n",
    "warnings.filterwarnings(\"ignore\")\n"
   ]
  },
  {
   "cell_type": "markdown",
   "metadata": {},
   "source": [
    "# About This Notebook\n",
    "\n",
    "* This notebook provides barebones functionality to reproduce the results for solubility classification models. (Table. X)\n",
    "* It also provides the ability to tweak some hyperparameters for the training process."
   ]
  },
  {
   "cell_type": "code",
   "execution_count": null,
   "metadata": {},
   "outputs": [],
   "source": [
    "def run(config):\n",
    "    out = []\n",
    "    for i in range(0, 3):\n",
    "        config['seed'] = i\n",
    "        save_path = os.path.join(\"Trained_Models\", f\"{config['model']}\", f'seed_{i}')\n",
    "        val_metrics, test_metrics = train_cross_val(config, save_path=save_path)\n",
    "        out.append(test_metrics)\n",
    "\n",
    "    result_df = pd.concat(out, ignore_index=True)\n",
    "\n",
    "    mean_results = result_df.mean()\n",
    "    std_results = result_df.std()\n",
    "\n",
    "    summary_df = pd.DataFrame({'mean': mean_results, 'std': std_results})\n",
    "    summary_df = summary_df.sort_index()\n",
    "    print(summary_df)\n",
    "\n",
    "    result_df.to_csv(os.path.join(\"./results\", config['model'] + '_results.csv'), index=False)"
   ]
  },
  {
   "cell_type": "code",
   "execution_count": null,
   "metadata": {},
   "outputs": [],
   "source": [
    "# choose from the following models: resnet18, efficientnet, convnext\n",
    "\n",
    "config = {\n",
    "    \"data_dir\": \"./Solubility-Data\",  # path to the data directory\n",
    "    \"model\": None,  # will be set in the loop\n",
    "    \"lr\": 0.0005, \n",
    "    \"batch_size\": 128, \n",
    "    \"weight_decay\": 0.001,\n",
    "    \"center_crop\": (1080, 1080), # center crop before resizing\n",
    "    \"resize\": (224, 224), # resizing to 224x224\n",
    "    \"degrees\": 0, # random rotation by 0 degrees \n",
    "    \"translate\": (0.1, 0.1), # random translation by 10%4\n",
    "    \"scale_lower\": 0.95, # random scaling to a minimum 95% of original size\n",
    "    \"scale_upper\": 1.4,  # random scaling to a maximum 140% of original size\n",
    "    \"num_epochs\": 30, \n",
    "    'seed':0, \n",
    "    'device': 'cuda'\n",
    "    }\n",
    "\n",
    "\n",
    "for model in ['resnet18', 'efficientnet', 'convnext']:\n",
    "    config['model'] = model\n",
    "    run(config)"
   ]
  },
  {
   "cell_type": "code",
   "execution_count": null,
   "metadata": {},
   "outputs": [],
   "source": []
  }
 ],
 "metadata": {
  "kernelspec": {
   "display_name": "venv (3.9.0)",
   "language": "python",
   "name": "python3"
  },
  "language_info": {
   "codemirror_mode": {
    "name": "ipython",
    "version": 3
   },
   "file_extension": ".py",
   "mimetype": "text/x-python",
   "name": "python",
   "nbconvert_exporter": "python",
   "pygments_lexer": "ipython3",
   "version": "3.9.0"
  }
 },
 "nbformat": 4,
 "nbformat_minor": 2
}
