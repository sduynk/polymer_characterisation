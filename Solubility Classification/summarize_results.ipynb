{
 "cells": [
  {
   "cell_type": "code",
   "execution_count": null,
   "metadata": {},
   "outputs": [],
   "source": [
    "import pandas as pd\n",
    "import os"
   ]
  },
  {
   "cell_type": "code",
   "execution_count": null,
   "metadata": {},
   "outputs": [],
   "source": [
    "### Summarize Results into a Table\n",
    "\n",
    "plus_minus = \"\\u00B1\"\n",
    "table = []\n",
    "for file in os.listdir(\"./results\"):\n",
    "    \n",
    "    if file.endswith(\".csv\"):\n",
    "        df = pd.read_csv(f\"./results/{file}\")\n",
    "        model = file.split(\"_results\")[0]\n",
    "        \n",
    "        mean = df.mean().sort_index()\n",
    "        std = df.std().sort_index()\n",
    "\n",
    "        results = {'model': [model]}\n",
    "\n",
    "        metrics = ['F1@2', 'F1@3', 'F1@4', 'accuracy@2', 'accuracy@3', 'accuracy@4',\n",
    "       'precision@2', 'precision@3', 'precision@4', 'recall@2', 'recall@3',\n",
    "       'recall@4']\n",
    "\n",
    "        for metric in metrics:\n",
    "            results[metric] = [f\"{mean[metric]:.3f}{plus_minus}{std[metric]:.3f}\"]\n",
    "        \n",
    "        table.append(pd.DataFrame(results))\n",
    "        \n",
    "\n",
    "table = pd.concat(table)\n",
    "table = table.sort_values(by='F1@4', ascending=False)\n",
    "table"
   ]
  },
  {
   "cell_type": "code",
   "execution_count": null,
   "metadata": {},
   "outputs": [],
   "source": [
    "filtered_table = table[['model'] + [col for col in table.columns if col.endswith('@4')]]\n",
    "filtered_table"
   ]
  },
  {
   "cell_type": "code",
   "execution_count": null,
   "metadata": {},
   "outputs": [],
   "source": []
  }
 ],
 "metadata": {
  "kernelspec": {
   "display_name": "venv (3.9.0)",
   "language": "python",
   "name": "python3"
  },
  "language_info": {
   "codemirror_mode": {
    "name": "ipython",
    "version": 3
   },
   "file_extension": ".py",
   "mimetype": "text/x-python",
   "name": "python",
   "nbconvert_exporter": "python",
   "pygments_lexer": "ipython3",
   "version": "3.9.0"
  }
 },
 "nbformat": 4,
 "nbformat_minor": 2
}
