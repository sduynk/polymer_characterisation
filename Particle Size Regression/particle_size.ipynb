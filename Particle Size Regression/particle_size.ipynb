{
 "cells": [
  {
   "cell_type": "code",
   "execution_count": null,
   "metadata": {},
   "outputs": [],
   "source": [
    "from train_regression import *\n",
    "import pandas as pd\n",
    "\n",
    "import warnings\n",
    "warnings.filterwarnings(\"ignore\")"
   ]
  },
  {
   "cell_type": "code",
   "execution_count": null,
   "metadata": {},
   "outputs": [],
   "source": [
    "config = {\n",
    "    \"data_dir\": \"./Particle_Size-Data\",\n",
    "    \"lr\": 0.002,\n",
    "    \"weight_decay\": 0.002,\n",
    "    \"num_epochs\": 200,\n",
    "    \"omega\": 32,\n",
    "    \"film_hidden_size\": 32,\n",
    "    \"head_hidden_size\": 1024,\n",
    "    \"mse\": True,\n",
    "    \"width\": 2,\n",
    "    \"dropout\": 0.0,\n",
    "    \"seed\": 0,\n",
    "    \"device\": \"cuda\"\n",
    "    }\n",
    "\n",
    "test_results = train_cross_val(config, False, save_path=\"./Trained_Models/PPSNet\")"
   ]
  },
  {
   "cell_type": "code",
   "execution_count": null,
   "metadata": {},
   "outputs": [],
   "source": [
    "df = pd.DataFrame(test_results)\n",
    "\n",
    "mean_summary = df.mean()\n",
    "std_summary = df.std()\n",
    "\n",
    "summary = pd.DataFrame({'Mean': mean_summary, 'Standard Deviation': std_summary}).T\n",
    "\n",
    "summary"
   ]
  },
  {
   "cell_type": "code",
   "execution_count": null,
   "metadata": {},
   "outputs": [],
   "source": []
  }
 ],
 "metadata": {
  "kernelspec": {
   "display_name": "venv (3.9.0)",
   "language": "python",
   "name": "python3"
  },
  "language_info": {
   "codemirror_mode": {
    "name": "ipython",
    "version": 3
   },
   "file_extension": ".py",
   "mimetype": "text/x-python",
   "name": "python",
   "nbconvert_exporter": "python",
   "pygments_lexer": "ipython3",
   "version": "3.9.0"
  }
 },
 "nbformat": 4,
 "nbformat_minor": 2
}
