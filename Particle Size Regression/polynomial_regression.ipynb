{
 "cells": [
  {
   "cell_type": "code",
   "execution_count": 4,
   "metadata": {},
   "outputs": [],
   "source": [
    "import torch\n",
    "import os\n",
    "import pandas as pd\n",
    "from PIL import Image\n",
    "import torchvision.transforms.functional as TF\n",
    "import numpy as np\n",
    "from sklearn.preprocessing import PolynomialFeatures, StandardScaler\n",
    "from sklearn.linear_model import LinearRegression\n",
    "from sklearn.pipeline import Pipeline"
   ]
  },
  {
   "cell_type": "code",
   "execution_count": 5,
   "metadata": {},
   "outputs": [],
   "source": [
    "data_dir = \"./Particle_Size-data\""
   ]
  },
  {
   "cell_type": "markdown",
   "metadata": {},
   "source": [
    "# Computing Features\n",
    "\n",
    "- load all images in the dataset, convert to LAB, and compute the mean L value for each image.\n",
    "- create a dataframe with particle_size, concentration and mean_L columns"
   ]
  },
  {
   "cell_type": "code",
   "execution_count": 6,
   "metadata": {},
   "outputs": [],
   "source": [
    "df = pd.read_csv(os.path.join(data_dir, \"annotations.csv\"), encoding=\"utf-8\")\n",
    "\n",
    "mean_Ls = []\n",
    "\n",
    "for image_path in df[\"image_path\"]:\n",
    "    image_path = os.path.join(data_dir, image_path)\n",
    "    \n",
    "    image = Image.open(image_path).convert(\"LAB\")\n",
    "    image = TF.to_tensor(image)\n",
    "    image = image[0].mean().item()\n",
    "    mean_Ls.append(image)\n",
    "\n",
    "\n",
    "df['mean_L'] = mean_Ls\n",
    "df['id'] = df['concentration'].astype(str) + '_' + df['particle_size'].astype(str)\n",
    "df = df.drop(columns=[\"image_path\", \"iteration\"])"
   ]
  },
  {
   "cell_type": "markdown",
   "metadata": {},
   "source": [
    "# Cross val fold generator\n",
    "\n",
    "- create train, val and test sets for 5 different Group folds"
   ]
  },
  {
   "cell_type": "code",
   "execution_count": 7,
   "metadata": {},
   "outputs": [],
   "source": [
    "from sklearn.model_selection import GroupKFold, GroupShuffleSplit\n",
    "\n",
    "def get_data(df):\n",
    "    gkf = GroupKFold(n_splits=5)\n",
    "    gss = GroupShuffleSplit(n_splits=1, test_size=0.2, random_state=42)\n",
    "\n",
    "    for train_index, test_index in gkf.split(df, groups=df['id']):\n",
    "        temp_df = df.iloc[train_index]\n",
    "        test_df = df.iloc[test_index]\n",
    "\n",
    "        for train_index, val_index in gss.split(temp_df, groups=temp_df['id']):\n",
    "            train_df = temp_df.iloc[train_index]\n",
    "            val_df = temp_df.iloc[val_index]\n",
    "    \n",
    "        yield train_df, val_df, test_df\n"
   ]
  },
  {
   "cell_type": "markdown",
   "metadata": {},
   "source": [
    "# Metrics\n",
    "\n",
    "- some functions to compute metrics and summarize the results over many folds"
   ]
  },
  {
   "cell_type": "code",
   "execution_count": 8,
   "metadata": {},
   "outputs": [],
   "source": [
    "from sklearn.metrics import mean_absolute_error, r2_score, root_mean_squared_error, mean_squared_error, mean_absolute_percentage_error\n",
    "import numpy as np\n",
    "\n",
    "def compute_metrics(predictions, targets):\n",
    "    mae = mean_absolute_error(targets, predictions)\n",
    "    rmse = root_mean_squared_error(targets, predictions)\n",
    "    mse = mean_squared_error(targets, predictions)\n",
    "    mape = mean_absolute_percentage_error(targets, predictions)\n",
    "\n",
    "    r2 = r2_score(targets, predictions)\n",
    "    \n",
    "    return {\n",
    "        \"r2\": r2,\n",
    "        \"absolute_percentage_error\": mape, \n",
    "        \"absolute_error\": mae, \"root_mse\": rmse, \n",
    "        \"squared_error\": mse}\n",
    "\n",
    "def summarize_metrics(metrics):\n",
    "    mean = metrics.mean()\n",
    "    std = metrics.std()\n",
    "    mean.name = 'mean'\n",
    "    std.name = 'std'\n",
    "    return pd.concat([mean, std], axis=1).T\n",
    "    \n"
   ]
  },
  {
   "cell_type": "markdown",
   "metadata": {},
   "source": [
    "# Function for Cross Validation"
   ]
  },
  {
   "cell_type": "code",
   "execution_count": 9,
   "metadata": {},
   "outputs": [],
   "source": [
    "def fit_model(train_df, test_df, config):\n",
    "    X_train = train_df[['concentration', 'mean_L']].to_numpy()\n",
    "    y_train = train_df['particle_size'].to_numpy()\n",
    "\n",
    "    X_test = test_df[['concentration', 'mean_L']].to_numpy()\n",
    "    y_test = test_df['particle_size'].to_numpy()\n",
    "\n",
    "    pipeline = Pipeline([\n",
    "        ('poly', PolynomialFeatures(degree=config['degree'])),\n",
    "        ('scaler', StandardScaler()),  # mainly important for high degree polynomials\n",
    "        ('reg', LinearRegression())\n",
    "    ])\n",
    "\n",
    "    pipeline.fit(X_train, y_train)\n",
    "    test_preds = pipeline.predict(X_test)\n",
    "    test_metrics = compute_metrics(test_preds, y_test)\n",
    "\n",
    "    return test_metrics\n",
    "\n",
    "def fit_cross_val(df, config):\n",
    "    val_metrics_all_folds = []\n",
    "    test_metrics_all_folds = []\n",
    "\n",
    "    for train_df, val_df, test_df in get_data(df):\n",
    "        val_metrics = fit_model(train_df, val_df, config)\n",
    "        test_metrics = fit_model(train_df, test_df, config)\n",
    "\n",
    "        val_metrics_all_folds.append(val_metrics)\n",
    "        test_metrics_all_folds.append(test_metrics)\n",
    "\n",
    "    val_metrics_all_folds = pd.DataFrame(val_metrics_all_folds)\n",
    "    test_metrics_all_folds = pd.DataFrame(test_metrics_all_folds)\n",
    "    return val_metrics_all_folds, test_metrics_all_folds\n",
    "\n",
    "def fit_final_models(df, config):\n",
    "    test_metrics_all_folds = []\n",
    "\n",
    "    for train_df, val_df, test_df in get_data(df):\n",
    "        train_df = pd.concat([train_df, val_df])\n",
    "        test_metrics = fit_model(train_df, test_df, config)\n",
    "        test_metrics_all_folds.append(test_metrics)\n",
    "\n",
    "    return pd.DataFrame(test_metrics_all_folds)\n",
    "\n",
    "def full_data_predictions(df, config):\n",
    "    test_predictions = []\n",
    "    test_targets = []\n",
    "\n",
    "    for train_df, val_df, test_df in get_data(df):\n",
    "        train_df = pd.concat([train_df, val_df])\n",
    "        X_train = train_df[['concentration', 'mean_L']].to_numpy()\n",
    "        y_train = train_df['particle_size'].to_numpy()\n",
    "\n",
    "        X_test = test_df[['concentration', 'mean_L']].to_numpy()\n",
    "        y_test = test_df['particle_size'].to_numpy()\n",
    "\n",
    "        pipeline = Pipeline([\n",
    "            ('poly', PolynomialFeatures(degree=config['degree'])),\n",
    "            ('scaler', StandardScaler()),  # mainly important for high degree polynomials\n",
    "            ('reg', LinearRegression())\n",
    "        ])\n",
    "\n",
    "        pipeline.fit(X_train, y_train)\n",
    "        test_preds = pipeline.predict(X_test)\n",
    "\n",
    "        test_predictions.extend(test_preds)\n",
    "        test_targets.extend(y_test)\n",
    "    \n",
    "    return np.array(test_predictions), np.array(test_targets)\n"
   ]
  },
  {
   "cell_type": "code",
   "execution_count": 10,
   "metadata": {},
   "outputs": [],
   "source": [
    "def grid_search():\n",
    "\n",
    "    best_val_MAE = float('inf')\n",
    "    best_val_config = None\n",
    "\n",
    "    # grid search over the polynomial degree\n",
    "\n",
    "    for degree in [1, 2, 3, 4, 5, 6, 7, 8, 9, 10]:\n",
    "        config = {\n",
    "            'degree': degree\n",
    "        }\n",
    "\n",
    "        val_metrics, test_metrics = fit_cross_val(df, config)\n",
    "        \n",
    "        val_metrics = summarize_metrics(val_metrics)\n",
    "        test_metrics = summarize_metrics(test_metrics)\n",
    "\n",
    "        if val_metrics.loc['mean', 'absolute_error'] < best_val_MAE:\n",
    "            best_val_MAE = val_metrics.loc['mean', 'absolute_error']\n",
    "            best_val_config = config\n",
    "\n",
    "    # refit the models but on train and validation data combined \n",
    "    # summarize over 5 folds\n",
    "\n",
    "    best_model_test_metrics = summarize_metrics(fit_final_models(df, best_val_config))\n",
    "    return best_val_config, best_model_test_metrics"
   ]
  },
  {
   "cell_type": "code",
   "execution_count": 11,
   "metadata": {},
   "outputs": [],
   "source": [
    "best_config, best_test_results = grid_search()"
   ]
  },
  {
   "cell_type": "code",
   "execution_count": 12,
   "metadata": {},
   "outputs": [
    {
     "data": {
      "text/plain": [
       "({'degree': 4},\n",
       "             r2  absolute_percentage_error  absolute_error   root_mse  \\\n",
       " mean  0.869885                   0.236891       32.550526  47.799493   \n",
       " std   0.031918                   0.039511        6.669875   9.587814   \n",
       " \n",
       "       squared_error  \n",
       " mean    2358.332463  \n",
       " std      943.783945  )"
      ]
     },
     "execution_count": 12,
     "metadata": {},
     "output_type": "execute_result"
    }
   ],
   "source": [
    "best_config, best_test_results"
   ]
  },
  {
   "cell_type": "code",
   "execution_count": 13,
   "metadata": {},
   "outputs": [],
   "source": [
    "pred, gt = full_data_predictions(df, best_config)"
   ]
  },
  {
   "cell_type": "code",
   "execution_count": 14,
   "metadata": {},
   "outputs": [
    {
     "data": {
      "image/png": "[encoded data removed]",
      "text/plain": [
       "<Figure size 600x600 with 1 Axes>"
      ]
     },
     "metadata": {},
     "output_type": "display_data"
    }
   ],
   "source": [
    "import matplotlib.pyplot as plt\n",
    "\n",
    "plt.figure(figsize=(6, 6))\n",
    "plt.scatter(gt, pred, alpha=0.5, label='Predictions vs Ground Truth')\n",
    "plt.plot([min(gt), max(gt)], [min(gt), max(gt)], color='red', linestyle='--', label='Ideal Fit')\n",
    "plt.xlabel('Ground Truth')\n",
    "plt.ylabel('Predictions')\n",
    "plt.title('Regression Plot')\n",
    "plt.legend()\n",
    "plt.show()"
   ]
  },
  {
   "cell_type": "code",
   "execution_count": null,
   "metadata": {},
   "outputs": [],
   "source": []
  }
 ],
 "metadata": {
  "kernelspec": {
   "display_name": "venv (3.9.0)",
   "language": "python",
   "name": "python3"
  },
  "language_info": {
   "codemirror_mode": {
    "name": "ipython",
    "version": 3
   },
   "file_extension": ".py",
   "mimetype": "text/x-python",
   "name": "python",
   "nbconvert_exporter": "python",
   "pygments_lexer": "ipython3",
   "version": "3.9.0"
  }
 },
 "nbformat": 4,
 "nbformat_minor": 2
}
