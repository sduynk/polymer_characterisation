{
 "cells": [
  {
   "cell_type": "code",
   "execution_count": null,
   "metadata": {},
   "outputs": [],
   "source": [
    "import pandas as pd\n",
    "import matplotlib.pyplot as plt\n",
    "from train_regression import full_dataset_predictions"
   ]
  },
  {
   "cell_type": "markdown",
   "metadata": {},
   "source": [
    "# Figures for Paper\n",
    "\n",
    "* This is a short notebook that can be used to generate further figures pertaining to particle size experiments.\n",
    "\n",
    "* If predictions across the full dataset are not already available, uncomment the code below and run.\n",
    "\n",
    "* Otherwise leave commented and load the predictions from csv"
   ]
  },
  {
   "cell_type": "code",
   "execution_count": null,
   "metadata": {},
   "outputs": [],
   "source": [
    "# ### Get full dataset predictions if not already done ###\n",
    "config = {\n",
    "    \"data_dir\": \"./data_cropped_con\",\n",
    "    \"lr\": 0.002,\n",
    "    \"weight_decay\": 0.002,\n",
    "    \"num_epochs\": 200,\n",
    "    \"omega\": 32,\n",
    "    \"film_hidden_size\": 32,\n",
    "    \"head_hidden_size\": 1024,\n",
    "    \"mse\": True,\n",
    "    \"width\": 2,\n",
    "    \"dropout\": 0.0,\n",
    "    \"seed\": 0,\n",
    "    \"device\": \"cuda\"\n",
    "    }\n",
    "\n",
    "df = full_dataset_predictions(config, False)\n",
    "df.to_csv('particle_size_predictions.csv', index=False)\n",
    "\n",
    "df = pd.read_csv('particle_size_predictions.csv')\n",
    "\n",
    "df"
   ]
  },
  {
   "cell_type": "code",
   "execution_count": null,
   "metadata": {},
   "outputs": [],
   "source": [
    "# Predicted particle size vs actual particle size\n",
    "\n",
    "plt.figure(figsize=(10, 10))\n",
    "\n",
    "plt.plot([df['denormed_targets'].min(), df['denormed_targets'].max()], \n",
    "         [df['denormed_targets'].min(), df['denormed_targets'].max()], \n",
    "         color='black', linestyle='--', linewidth=1)\n",
    "\n",
    "plt.scatter(df['denormed_targets'], df['denormed_outputs'], s=100, alpha=0.1, c='green')\n",
    "\n",
    "plt.xlabel('True Particle Size (nm)', fontsize=20)\n",
    "plt.ylabel('Predicted Particle Size (nm)', fontsize=20)\n",
    "plt.title('Predicted vs True Particle Size', fontsize=30)\n",
    "plt.xticks(fontsize=16)\n",
    "plt.yticks(fontsize=16)\n",
    "plt.show()\n"
   ]
  },
  {
   "cell_type": "code",
   "execution_count": null,
   "metadata": {},
   "outputs": [],
   "source": [
    "### Mean Absolute Percentage Error vs Concentration ###\n",
    "\n",
    "ape = ((df['denormed_outputs'] - df['denormed_targets']).abs() / df['denormed_targets']) * 100\n",
    "df['ape'] = ape\n",
    "\n",
    "apes = df.groupby('concentrations')['ape'].mean()\n",
    "\n",
    "mean_apes_list = apes.tolist()\n",
    "\n",
    "plt.figure(figsize=(10, 6))\n",
    "plt.plot(df['concentrations'].unique(), mean_apes_list, color='black', linestyle='--', linewidth=1)\n",
    "plt.scatter(df['concentrations'].unique(), mean_apes_list, marker='o', color='green', s=50)\n",
    "plt.xlabel('Concentration')\n",
    "plt.ylabel('Mean Absolute Percentage Error')\n",
    "plt.title('Mean Absolute Percentage Error vs Concentration')\n",
    "plt.show()"
   ]
  },
  {
   "cell_type": "code",
   "execution_count": null,
   "metadata": {},
   "outputs": [],
   "source": [
    "### Mean Absolute Percentage Error vs Particle Size ###\n",
    "\n",
    "df['denormed_targets_rounded'] = df['denormed_targets'].round(0)\n",
    "\n",
    "ape_vs_size = df.groupby('denormed_targets_rounded')['ape'].mean()\n",
    "\n",
    "plt.figure(figsize=(10, 6))\n",
    "plt.plot(ape_vs_size.index, ape_vs_size.values, color='black', linestyle='--', linewidth=1)\n",
    "plt.scatter(ape_vs_size.index, ape_vs_size.values, marker='o', color='green', s=50)\n",
    "plt.xlabel('Particle Size (nm)')\n",
    "plt.ylabel('Mean Absolute Percentage Error (%)')\n",
    "plt.title('Mean Absolute Percentage Error vs Particle Size')\n",
    "plt.show()"
   ]
  },
  {
   "cell_type": "code",
   "execution_count": null,
   "metadata": {},
   "outputs": [],
   "source": []
  }
 ],
 "metadata": {
  "kernelspec": {
   "display_name": "python39",
   "language": "python",
   "name": "python3"
  },
  "language_info": {
   "codemirror_mode": {
    "name": "ipython",
    "version": 3
   },
   "file_extension": ".py",
   "mimetype": "text/x-python",
   "name": "python",
   "nbconvert_exporter": "python",
   "pygments_lexer": "ipython3",
   "version": "3.9.19"
  }
 },
 "nbformat": 4,
 "nbformat_minor": 2
}
